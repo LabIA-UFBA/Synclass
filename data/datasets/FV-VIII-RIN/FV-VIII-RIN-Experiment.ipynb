{
 "cells": [
  {
   "cell_type": "code",
   "execution_count": 2,
   "metadata": {},
   "outputs": [],
   "source": [
    "import pandas as pd"
   ]
  },
  {
   "cell_type": "code",
   "execution_count": 15,
   "metadata": {},
   "outputs": [
    {
     "name": "stdout",
     "output_type": "stream",
     "text": [
      "      node  res  dg  Betweeness  Closeness  Burts.contraint  Activity\n",
      "342    376  LYS   2    0.006702   0.077052         0.500000      18.4\n",
      "343    377  LYS   3    0.008832   0.083183         0.333333      88.9\n",
      "344    378  HIS   2    0.001229   0.078715         0.500000      91.3\n",
      "345    379  PRO   3    0.001997   0.082899         0.425347      87.1\n",
      "346    380  LYS   4    0.000474   0.085157         0.424045       5.0\n",
      "...    ...  ...  ..         ...        ...              ...       ...\n",
      "1324  2321  MET   9    0.016493   0.085687         0.181151      58.8\n",
      "1325  2322  GLU   9    0.017849   0.091251         0.196986       7.5\n",
      "1326  2323  VAL   8    0.010809   0.093836         0.187668      10.5\n",
      "1327  2324  LEU   7    0.002133   0.096844         0.271160      80.8\n",
      "1328  2325  GLY   7    0.010652   0.101846         0.226116       4.9\n",
      "\n",
      "[344 rows x 7 columns]\n"
     ]
    }
   ],
   "source": [
    "dataset = pd.read_csv(\"/home/brenno/Documentos/Doutorado/single-feature-classification/data/FV-VIII-RIN/RIN-2R7E.csv\", sep=\";\")\n",
    "dataset = dataset.dropna()\n",
    "print(dataset)\n",
    "dataset[\"Label.Activity\"] = dataset[\"Activity\"].apply(lambda val: \"low\" if val < 50 else \"high\")\n",
    "dataset.to_csv('RIN-2R7E-label.csv', header=True)"
   ]
  },
  {
   "cell_type": "code",
   "execution_count": 5,
   "metadata": {},
   "outputs": [
    {
     "name": "stdout",
     "output_type": "stream",
     "text": [
      "     res  dg  Betweeness  Closeness  Burts.contraint\n",
      "0     10   2    0.006702   0.077052         0.500000\n",
      "1     10   3    0.008832   0.083183         0.333333\n",
      "2      7   2    0.001229   0.078715         0.500000\n",
      "3     13   3    0.001997   0.082899         0.425347\n",
      "4     10   4    0.000474   0.085157         0.424045\n",
      "..   ...  ..         ...        ...              ...\n",
      "339   11   9    0.016493   0.085687         0.181151\n",
      "340    5   9    0.017849   0.091251         0.196986\n",
      "341   18   8    0.010809   0.093836         0.187668\n",
      "342    9   7    0.002133   0.096844         0.271160\n",
      "343    6   7    0.010652   0.101846         0.226116\n",
      "\n",
      "[344 rows x 5 columns]\n"
     ]
    }
   ],
   "source": [
    "from sklearn.preprocessing import LabelEncoder\n",
    "\n",
    "dataset = pd.read_csv(\"RIN-2R7E-label.csv\", sep=\",\")\n",
    "label_encoder = LabelEncoder()\n",
    "dataset['res'] = label_encoder.fit_transform(dataset.loc[:,'res'])\n",
    "dataset.drop(['node_', 'node', 'Activity', 'Label.Activity'], axis='columns', inplace=True)\n",
    "print(dataset)"
   ]
  },
  {
   "cell_type": "code",
   "execution_count": null,
   "metadata": {},
   "outputs": [],
   "source": []
  }
 ],
 "metadata": {
  "interpreter": {
   "hash": "916dbcbb3f70747c44a77c7bcd40155683ae19c65e1c03b4aa3499c5328201f1"
  },
  "kernelspec": {
   "display_name": "Python 3",
   "language": "python",
   "name": "python3"
  },
  "language_info": {
   "codemirror_mode": {
    "name": "ipython",
    "version": 3
   },
   "file_extension": ".py",
   "mimetype": "text/x-python",
   "name": "python",
   "nbconvert_exporter": "python",
   "pygments_lexer": "ipython3",
   "version": "3.8.10"
  }
 },
 "nbformat": 4,
 "nbformat_minor": 4
}
