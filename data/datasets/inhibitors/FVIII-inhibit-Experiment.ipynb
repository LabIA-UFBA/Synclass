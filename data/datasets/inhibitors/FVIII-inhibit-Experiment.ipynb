{
 "cells": [
  {
   "cell_type": "code",
   "execution_count": 5,
   "metadata": {},
   "outputs": [],
   "source": [
    "import pandas as pd\n",
    "from sklearn.preprocessing import LabelEncoder\n",
    "from collections import Counter"
   ]
  },
  {
   "cell_type": "code",
   "execution_count": 11,
   "metadata": {},
   "outputs": [
    {
     "name": "stdout",
     "output_type": "stream",
     "text": [
      "    inhibit\n",
      "31       No\n",
      "0        No\n",
      "122      No\n",
      "51       No\n",
      "159      No\n",
      "137      No\n",
      "375      No\n",
      "64       No\n",
      "276      No\n",
      "364      No\n",
      "209      No\n",
      "135      No\n",
      "178      No\n",
      "138      No\n",
      "423      No\n",
      "482     Yes\n",
      "480     Yes\n",
      "486     Yes\n",
      "422     Yes\n",
      "469     Yes\n",
      "504     Yes\n",
      "116     Yes\n",
      "19      Yes\n",
      "436     Yes\n",
      "171     Yes\n",
      "340     Yes\n",
      "161     Yes\n",
      "191     Yes\n",
      "130     Yes\n",
      "414     Yes\n"
     ]
    }
   ],
   "source": [
    "dataset = pd.read_csv(\"FVIII_inhibit_dataset_v2.csv\", sep=\"\\t\")\n",
    "label_encoder = LabelEncoder()\n",
    "dataset['Residue'] = label_encoder.fit_transform(dataset.loc[:,'Residue'])\n",
    "dataset['Domain'] = label_encoder.fit_transform(dataset.loc[:,'Domain'])\n",
    "print(dataset.iloc[[31,  0, 122,  51, 159, 137, 375,  64, 276, 364, 209, 135, 178, 138, 423, 482, 480, 486,\n",
    " 422, 469, 504, 116,  19, 436, 171, 340, 161, 191, 130, 414], 21:23])"
   ]
  },
  {
   "cell_type": "code",
   "execution_count": 6,
   "metadata": {},
   "outputs": [
    {
     "data": {
      "text/plain": [
       "Counter({'No': 509, 'Yes': 15})"
      ]
     },
     "execution_count": 6,
     "metadata": {},
     "output_type": "execute_result"
    }
   ],
   "source": [
    "dataset = pd.read_csv(\"FVIII_inhibit_dataset_v2.csv\", sep=\"\\t\")\n",
    "dataset.head()\n",
    "Counter(dataset['inhibit'])"
   ]
  },
  {
   "cell_type": "code",
   "execution_count": null,
   "metadata": {},
   "outputs": [],
   "source": []
  }
 ],
 "metadata": {
  "interpreter": {
   "hash": "916dbcbb3f70747c44a77c7bcd40155683ae19c65e1c03b4aa3499c5328201f1"
  },
  "kernelspec": {
   "display_name": "Python 3.9.7 64-bit",
   "language": "python",
   "name": "python3"
  },
  "language_info": {
   "codemirror_mode": {
    "name": "ipython",
    "version": 3
   },
   "file_extension": ".py",
   "mimetype": "text/x-python",
   "name": "python",
   "nbconvert_exporter": "python",
   "pygments_lexer": "ipython3",
   "version": "3.9.7"
  },
  "orig_nbformat": 4
 },
 "nbformat": 4,
 "nbformat_minor": 2
}
