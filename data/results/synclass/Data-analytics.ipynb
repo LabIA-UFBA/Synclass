{
 "cells": [
  {
   "cell_type": "code",
   "execution_count": 1,
   "metadata": {},
   "outputs": [],
   "source": [
    "import pandas as pd \n",
    "import numpy as np\n",
    "from loguru import logger as log"
   ]
  },
  {
   "cell_type": "code",
   "execution_count": 6,
   "metadata": {},
   "outputs": [
    {
     "name": "stderr",
     "output_type": "stream",
     "text": [
      "\u001b[32m2023-05-10 14:35:11.659\u001b[0m | \u001b[1mINFO    \u001b[0m | \u001b[36m__main__\u001b[0m:\u001b[36m<module>\u001b[0m:\u001b[36m15\u001b[0m - \u001b[1mMODEL Thresh 0.4999999999999996 with F1: 0.7\u001b[0m\n"
     ]
    }
   ],
   "source": [
    "dataframe = pd.read_csv('protein_c_deficiency_0.25.csv')\n",
    "dataframe_filter = dataframe['THRE'].unique()\n",
    "#print(dataframe['THRE'].value_counts())\n",
    "\n",
    "max_mean_f1 = 0\n",
    "max_thresh = 0\n",
    "for thresh in dataframe_filter:\n",
    "    df_model = dataframe[dataframe['THRE'] == thresh]\n",
    "    mean_f1 = float(f'{np.mean(df_model[\"F1\"]):.2f}')\n",
    "    if mean_f1 > max_mean_f1:\n",
    "        max_mean_f1 = mean_f1\n",
    "        max_thresh = thresh \n",
    "        #log.info(f'MODEL Thresh {thresh} with F1: {mean_f1} count: {df_model.shape[0]}')\n",
    "\n",
    "log.info(f'MODEL Thresh {max_thresh} with F1: {max_mean_f1}')\n"
   ]
  },
  {
   "cell_type": "code",
   "execution_count": 17,
   "metadata": {},
   "outputs": [],
   "source": [
    "from collections import Counter\n",
    "import pandas as pd\n",
    "import numpy as np\n",
    "from sklearn.utils import shuffle\n",
    "from imblearn.over_sampling import SMOTE\n",
    "from sklearn.preprocessing import LabelEncoder"
   ]
  },
  {
   "cell_type": "code",
   "execution_count": 15,
   "metadata": {},
   "outputs": [],
   "source": [
    "def load_protein_c_v2():\n",
    "    \n",
    "    df = pd.read_csv('../../data/protein_c_deficiency_v2.csv', sep='\\t')\n",
    "    label_encoder = LabelEncoder()\n",
    "    df['res'] = label_encoder.fit_transform(df['res'])\n",
    "    \n",
    "    y = df['proc_deficiency'].replace({'No deficiency': 0, 'PROC deficiency': 1})\n",
    "    x = df.drop(['proc_deficiency', 'node'], axis=1)\n",
    "    \n",
    "    return x, y, df"
   ]
  },
  {
   "cell_type": "code",
   "execution_count": 64,
   "metadata": {},
   "outputs": [],
   "source": [
    "def test_balacing(X, Y, percentage, rs, at='target', sm=False):\n",
    "    \n",
    "    X[at] = Y\n",
    "\n",
    "    size_minority = min(Counter(X[at]).values())\n",
    "    \n",
    "    p = np.ceil(size_minority * percentage).astype('int')\n",
    "    train = []\n",
    "    test = []\n",
    "    for classe in X[at].unique():\n",
    "        \n",
    "        df_class = X[X[at] == classe]\n",
    "        \n",
    "        test.append(df_class.iloc[:p])\n",
    "        train.append(df_class.iloc[p:])\n",
    "        \n",
    "    df_train = pd.concat(train)\n",
    "    df_test = pd.concat(test)\n",
    "\n",
    "    # surffle\n",
    "    df_train = shuffle(df_train, random_state=rs)\n",
    "    df_test = shuffle(df_test, random_state=rs)\n",
    "    \n",
    "    y_train = df_train[at]\n",
    "    y_test = df_test[at]\n",
    "        \n",
    "    x_train = df_train.drop([at], axis=1)\n",
    "    x_test = df_test.drop([at], axis=1)   \n",
    "\n",
    "    if sm:\n",
    "        x_train, y_train = SMOTE().fit_resample(x_train, y_train)\n",
    "    \n",
    "    return x_train, y_train, x_test, y_test"
   ]
  },
  {
   "cell_type": "code",
   "execution_count": 52,
   "metadata": {},
   "outputs": [],
   "source": [
    "def test_balacing_random(X, Y, percentage, rs, at='target', sm=False):\n",
    "    \n",
    "    # surffle\n",
    "    X = shuffle(X, random_state=rs)\n",
    "    Y = shuffle(Y, random_state=rs)\n",
    "\n",
    "    X[at] = Y\n",
    "    size_minority = min(Counter(X[at]).values())\n",
    "    \n",
    "    p = np.ceil(size_minority * percentage).astype('int')\n",
    "    train = []\n",
    "    test = []\n",
    "    for classe in X[at].unique():\n",
    "        \n",
    "        df_class = X[X[at] == classe]\n",
    "        \n",
    "        test.append(df_class.iloc[:p])\n",
    "        train.append(df_class.iloc[p:])\n",
    "        \n",
    "    df_train = pd.concat(train)\n",
    "    df_test = pd.concat(test)\n",
    "      \n",
    "    y_train = df_train[at]\n",
    "    y_test = df_test[at]\n",
    "        \n",
    "    x_train = df_train.drop([at], axis=1)\n",
    "    x_test = df_test.drop([at], axis=1)   \n",
    "\n",
    "    if sm:\n",
    "        x_train, y_train = SMOTE().fit_resample(x_train, y_train)\n",
    "    \n",
    "    return x_train, y_train, x_test, y_test"
   ]
  },
  {
   "cell_type": "code",
   "execution_count": 68,
   "metadata": {},
   "outputs": [],
   "source": [
    "def undersampling(X, Y, percentage, rs, at='target', increase=1, sm=True):\n",
    "    \n",
    "    X[at] = Y\n",
    "    \n",
    "    # surffle\n",
    "    X = shuffle(X, random_state=rs)\n",
    "\n",
    "    #size_minority = min(Counter(X[at]).values())\n",
    "    proportions = Counter(X[at])\n",
    "\n",
    "    class_minority = min(proportions, key=proportions.get)\n",
    "    size_minority  = proportions[class_minority]\n",
    "    \n",
    "    p = np.ceil(size_minority * percentage).astype('int')\n",
    "    p_train = (size_minority - p)\n",
    "        \n",
    "    train, test = [], []\n",
    "\n",
    "    for classe in X[at].unique():\n",
    "        \n",
    "        df_class = X[X[at] == classe]\n",
    "\n",
    "        if classe != class_minority:\n",
    "            train.append(df_class.iloc[p:(p_train*increase)])\n",
    "        else:\n",
    "            train.append(df_class.iloc[p:(p_train)])        \n",
    "            \n",
    "        test.append(df_class.iloc[:p])\n",
    "        #train.append(df_class.iloc[p:p_train])\n",
    "        \n",
    "    df_train = pd.concat(train)\n",
    "    df_test = pd.concat(test)\n",
    "    \n",
    "    y_train = df_train[at]\n",
    "    y_test = df_test[at]\n",
    "        \n",
    "    x_train = df_train.drop([at], axis=1)\n",
    "    x_test = df_test.drop([at], axis=1)   \n",
    "\n",
    "    if sm:\n",
    "        x_train, y_train = SMOTE().fit_resample(x_train, y_train)\n",
    "    \n",
    "    return x_train, y_train, x_test, y_test\n"
   ]
  },
  {
   "cell_type": "code",
   "execution_count": 72,
   "metadata": {},
   "outputs": [
    {
     "name": "stdout",
     "output_type": "stream",
     "text": [
      "set()\n",
      "{286}\n",
      "{286}\n",
      "{84}\n",
      "{314, 195, 284, 84}\n",
      "{253, 47}\n",
      "set()\n",
      "{294, 74, 141, 30, 318}\n",
      "{66, 298, 148, 30, 94}\n",
      "{282, 196}\n",
      "{282, 98, 127}\n",
      "{88, 154, 98}\n",
      "{12, 311}\n",
      "{220, 67, 12, 276}\n",
      "{112, 197}\n",
      "{225, 44}\n",
      "{299, 211}\n",
      "{299, 308}\n",
      "{16}\n",
      "{8, 307}\n"
     ]
    }
   ],
   "source": [
    "iterations = 20\n",
    "x, y, _ = load_protein_c_v2()\n",
    "p=0.1\n",
    "\n",
    "y_last_iter = pd.Series()\n",
    "for i in range(iterations):\n",
    "    x_train_raw, y_train_raw, x_test_raw, y_test_raw = test_balacing_random(x, y, p, i, False)\n",
    "    \n",
    "    y_index_iter = pd.Series(y_test_raw.index)\n",
    "    print(set(y_index_iter) & set(y_last_iter))\n",
    "    y_last_iter = y_index_iter\n",
    "\n",
    "\n"
   ]
  },
  {
   "cell_type": "code",
   "execution_count": 71,
   "metadata": {},
   "outputs": [
    {
     "name": "stdout",
     "output_type": "stream",
     "text": [
      "set()\n",
      "{0, 1, 2, 3, 4, 5, 6, 7, 8, 9, 10, 11, 12, 13, 14, 15, 16, 17, 18, 19, 20, 21, 24, 25, 26, 27, 28, 29}\n",
      "{0, 1, 2, 3, 4, 5, 6, 7, 8, 9, 10, 11, 12, 13, 14, 15, 16, 17, 18, 19, 20, 21, 24, 25, 26, 27, 28, 29}\n",
      "{0, 1, 2, 3, 4, 5, 6, 7, 8, 9, 10, 11, 12, 13, 14, 15, 16, 17, 18, 19, 20, 21, 24, 25, 26, 27, 28, 29}\n",
      "{0, 1, 2, 3, 4, 5, 6, 7, 8, 9, 10, 11, 12, 13, 14, 15, 16, 17, 18, 19, 20, 21, 24, 25, 26, 27, 28, 29}\n",
      "{0, 1, 2, 3, 4, 5, 6, 7, 8, 9, 10, 11, 12, 13, 14, 15, 16, 17, 18, 19, 20, 21, 24, 25, 26, 27, 28, 29}\n",
      "{0, 1, 2, 3, 4, 5, 6, 7, 8, 9, 10, 11, 12, 13, 14, 15, 16, 17, 18, 19, 20, 21, 24, 25, 26, 27, 28, 29}\n",
      "{0, 1, 2, 3, 4, 5, 6, 7, 8, 9, 10, 11, 12, 13, 14, 15, 16, 17, 18, 19, 20, 21, 24, 25, 26, 27, 28, 29}\n",
      "{0, 1, 2, 3, 4, 5, 6, 7, 8, 9, 10, 11, 12, 13, 14, 15, 16, 17, 18, 19, 20, 21, 24, 25, 26, 27, 28, 29}\n",
      "{0, 1, 2, 3, 4, 5, 6, 7, 8, 9, 10, 11, 12, 13, 14, 15, 16, 17, 18, 19, 20, 21, 24, 25, 26, 27, 28, 29}\n",
      "{0, 1, 2, 3, 4, 5, 6, 7, 8, 9, 10, 11, 12, 13, 14, 15, 16, 17, 18, 19, 20, 21, 24, 25, 26, 27, 28, 29}\n",
      "{0, 1, 2, 3, 4, 5, 6, 7, 8, 9, 10, 11, 12, 13, 14, 15, 16, 17, 18, 19, 20, 21, 24, 25, 26, 27, 28, 29}\n",
      "{0, 1, 2, 3, 4, 5, 6, 7, 8, 9, 10, 11, 12, 13, 14, 15, 16, 17, 18, 19, 20, 21, 24, 25, 26, 27, 28, 29}\n",
      "{0, 1, 2, 3, 4, 5, 6, 7, 8, 9, 10, 11, 12, 13, 14, 15, 16, 17, 18, 19, 20, 21, 24, 25, 26, 27, 28, 29}\n",
      "{0, 1, 2, 3, 4, 5, 6, 7, 8, 9, 10, 11, 12, 13, 14, 15, 16, 17, 18, 19, 20, 21, 24, 25, 26, 27, 28, 29}\n",
      "{0, 1, 2, 3, 4, 5, 6, 7, 8, 9, 10, 11, 12, 13, 14, 15, 16, 17, 18, 19, 20, 21, 24, 25, 26, 27, 28, 29}\n",
      "{0, 1, 2, 3, 4, 5, 6, 7, 8, 9, 10, 11, 12, 13, 14, 15, 16, 17, 18, 19, 20, 21, 24, 25, 26, 27, 28, 29}\n",
      "{0, 1, 2, 3, 4, 5, 6, 7, 8, 9, 10, 11, 12, 13, 14, 15, 16, 17, 18, 19, 20, 21, 24, 25, 26, 27, 28, 29}\n",
      "{0, 1, 2, 3, 4, 5, 6, 7, 8, 9, 10, 11, 12, 13, 14, 15, 16, 17, 18, 19, 20, 21, 24, 25, 26, 27, 28, 29}\n",
      "{0, 1, 2, 3, 4, 5, 6, 7, 8, 9, 10, 11, 12, 13, 14, 15, 16, 17, 18, 19, 20, 21, 24, 25, 26, 27, 28, 29}\n"
     ]
    }
   ],
   "source": [
    "iterations = 20\n",
    "x, y, _ = load_protein_c_v2()\n",
    "p=0.1\n",
    "\n",
    "y_last_iter = pd.Series()\n",
    "for i in range(iterations):\n",
    "    x_train_raw, y_train_raw, x_test_raw, y_test_raw = test_balacing(x, y, p, i, False)\n",
    "    \n",
    "    y_index_iter = pd.Series(y_test_raw.index)\n",
    "    print(set(y_index_iter) & set(y_last_iter))\n",
    "    y_last_iter = y_index_iter\n"
   ]
  },
  {
   "cell_type": "code",
   "execution_count": 70,
   "metadata": {},
   "outputs": [
    {
     "name": "stdout",
     "output_type": "stream",
     "text": [
      "set()\n",
      "{286}\n",
      "{286}\n",
      "{84}\n",
      "{314, 195, 284, 84}\n",
      "{253, 47}\n",
      "set()\n",
      "{294, 74, 141, 30, 318}\n",
      "{66, 298, 148, 30, 94}\n",
      "{282, 196}\n",
      "{282, 98, 127}\n",
      "{88, 154, 98}\n",
      "{12, 311}\n",
      "{220, 67, 12, 276}\n",
      "{112, 197}\n",
      "{225, 44}\n",
      "{299, 211}\n",
      "{299, 308}\n",
      "{16}\n",
      "{8, 307}\n"
     ]
    }
   ],
   "source": [
    "iterations = 20\n",
    "x, y, _ = load_protein_c_v2()\n",
    "p=0.1\n",
    "\n",
    "y_last_iter = pd.Series()\n",
    "for i in range(iterations):\n",
    "    x_train_raw, y_train_raw, x_test_raw, y_test_raw = undersampling(x, y, p, i, False)\n",
    "    \n",
    "    y_index_iter = pd.Series(y_test_raw.index)\n",
    "    print(set(y_index_iter) & set(y_last_iter))\n",
    "    y_last_iter = y_index_iter\n"
   ]
  },
  {
   "cell_type": "code",
   "execution_count": null,
   "metadata": {},
   "outputs": [],
   "source": []
  }
 ],
 "metadata": {
  "kernelspec": {
   "display_name": "ipython",
   "language": "python",
   "name": "python3"
  },
  "language_info": {
   "codemirror_mode": {
    "name": "ipython",
    "version": 3
   },
   "file_extension": ".py",
   "mimetype": "text/x-python",
   "name": "python",
   "nbconvert_exporter": "python",
   "pygments_lexer": "ipython3",
   "version": "3.10.11"
  },
  "orig_nbformat": 4
 },
 "nbformat": 4,
 "nbformat_minor": 2
}
